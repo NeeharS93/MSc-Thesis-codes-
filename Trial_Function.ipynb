{
 "cells": [
  {
   "cell_type": "code",
   "execution_count": 11,
   "metadata": {},
   "outputs": [],
   "source": [
    "import pybamm\n",
    "import matplotlib.pyplot as plt\n",
    "import numpy as np\n",
    "model = pybamm.lithium_ion.DFN()\n",
    "for event in model.events: \n",
    "    if event.name == \"Zero electrolyte concentration cut-off\":\n",
    "        model.events.remove(event)\n",
    "chem = pybamm.parameter_sets.Chen2020 #Cell Chemistry\n",
    "#chem \n",
    "Parameter_values = pybamm.ParameterValues(chemistry=chem)\n",
    "C_rates = np.arange(0.2,10.2,0.2).tolist()"
   ]
  },
  {
   "cell_type": "code",
   "execution_count": 18,
   "metadata": {},
   "outputs": [
    {
     "ename": "TypeError",
     "evalue": "'module' object is not callable",
     "output_type": "error",
     "traceback": [
      "\u001b[1;31m---------------------------------------------------------------------------\u001b[0m",
      "\u001b[1;31mTypeError\u001b[0m                                 Traceback (most recent call last)",
      "\u001b[1;32me:\\MSc SAE\\MSc Thesis\\Battery Energy and Power Output Prediction\\Codes\\Basic.ipynb Cell 2'\u001b[0m in \u001b[0;36m<cell line: 2>\u001b[1;34m()\u001b[0m\n\u001b[0;32m      <a href='vscode-notebook-cell:/e%3A/MSc%20SAE/MSc%20Thesis/Battery%20Energy%20and%20Power%20Output%20Prediction/Codes/Basic.ipynb#ch0000006?line=0'>1</a>\u001b[0m \u001b[39mimport\u001b[39;00m \u001b[39mdt_max\u001b[39;00m\n\u001b[1;32m----> <a href='vscode-notebook-cell:/e%3A/MSc%20SAE/MSc%20Thesis/Battery%20Energy%20and%20Power%20Output%20Prediction/Codes/Basic.ipynb#ch0000006?line=1'>2</a>\u001b[0m dt_max(model\u001b[39m=\u001b[39;49mmodel, parameter_values\u001b[39m=\u001b[39;49mParameter_values, C_rates\u001b[39m=\u001b[39;49mC_rates)\n",
      "\u001b[1;31mTypeError\u001b[0m: 'module' object is not callable"
     ]
    }
   ],
   "source": [
    "import dt_max\n",
    "dt_max(model=model, parameter_values=Parameter_values, C_rates=C_rates)"
   ]
  },
  {
   "cell_type": "code",
   "execution_count": 16,
   "metadata": {},
   "outputs": [
    {
     "ename": "NameError",
     "evalue": "name 'sims' is not defined",
     "output_type": "error",
     "traceback": [
      "\u001b[1;31m---------------------------------------------------------------------------\u001b[0m",
      "\u001b[1;31mNameError\u001b[0m                                 Traceback (most recent call last)",
      "\u001b[1;32me:\\MSc SAE\\MSc Thesis\\Battery Energy and Power Output Prediction\\Codes\\Basic.ipynb Cell 3'\u001b[0m in \u001b[0;36m<cell line: 4>\u001b[1;34m()\u001b[0m\n\u001b[0;32m      <a href='vscode-notebook-cell:/e%3A/MSc%20SAE/MSc%20Thesis/Battery%20Energy%20and%20Power%20Output%20Prediction/Codes/Basic.ipynb#ch0000007?line=1'>2</a>\u001b[0m plt\u001b[39m.\u001b[39mxlabel(\u001b[39m\"\u001b[39m\u001b[39mCurrent [A]\u001b[39m\u001b[39m\"\u001b[39m)\n\u001b[0;32m      <a href='vscode-notebook-cell:/e%3A/MSc%20SAE/MSc%20Thesis/Battery%20Energy%20and%20Power%20Output%20Prediction/Codes/Basic.ipynb#ch0000007?line=2'>3</a>\u001b[0m plt\u001b[39m.\u001b[39mylabel(\u001b[39m\"\u001b[39m\u001b[39mDischarge Capacity [A.h]\u001b[39m\u001b[39m\"\u001b[39m)\n\u001b[1;32m----> <a href='vscode-notebook-cell:/e%3A/MSc%20SAE/MSc%20Thesis/Battery%20Energy%20and%20Power%20Output%20Prediction/Codes/Basic.ipynb#ch0000007?line=3'>4</a>\u001b[0m capacity \u001b[39m=\u001b[39m [sol\u001b[39m.\u001b[39msolution[\u001b[39m\"\u001b[39m\u001b[39mDischarge capacity [A.h]\u001b[39m\u001b[39m\"\u001b[39m]\u001b[39m.\u001b[39mdata[\u001b[39m-\u001b[39m\u001b[39m1\u001b[39m] \u001b[39mfor\u001b[39;00m sol \u001b[39min\u001b[39;00m sims]\n\u001b[0;32m      <a href='vscode-notebook-cell:/e%3A/MSc%20SAE/MSc%20Thesis/Battery%20Energy%20and%20Power%20Output%20Prediction/Codes/Basic.ipynb#ch0000007?line=4'>5</a>\u001b[0m current \u001b[39m=\u001b[39m [sol\u001b[39m.\u001b[39msolution[\u001b[39m\"\u001b[39m\u001b[39mCurrent [A]\u001b[39m\u001b[39m\"\u001b[39m]\u001b[39m.\u001b[39mdata[\u001b[39m-\u001b[39m\u001b[39m1\u001b[39m] \u001b[39mfor\u001b[39;00m sol \u001b[39min\u001b[39;00m sims]\n\u001b[0;32m      <a href='vscode-notebook-cell:/e%3A/MSc%20SAE/MSc%20Thesis/Battery%20Energy%20and%20Power%20Output%20Prediction/Codes/Basic.ipynb#ch0000007?line=6'>7</a>\u001b[0m \u001b[39m#plt.scatter(current, capacity)\u001b[39;00m\n",
      "\u001b[1;31mNameError\u001b[0m: name 'sims' is not defined"
     ]
    },
    {
     "data": {
      "image/png": "[encoded data removed]",
      "text/plain": [
       "<Figure size 432x288 with 1 Axes>"
      ]
     },
     "metadata": {
      "needs_background": "light"
     },
     "output_type": "display_data"
    }
   ],
   "source": [
    "#fig, ax = plt.subplots()\n",
    "plt.xlabel(\"Current [A]\")\n",
    "plt.ylabel(\"Discharge Capacity [A.h]\")\n",
    "capacity = [sol.solution[\"Discharge capacity [A.h]\"].data[-1] for sol in sims]\n",
    "current = [sol.solution[\"Current [A]\"].data[-1] for sol in sims]\n",
    "\n",
    "#plt.scatter(current, capacity)\n",
    "plt.plot(current,capacity)\n",
    "plt.show()"
   ]
  }
 ],
 "metadata": {
  "kernelspec": {
   "display_name": "Python 3.9.13 64-bit",
   "language": "python",
   "name": "python3"
  },
  "language_info": {
   "codemirror_mode": {
    "name": "ipython",
    "version": 3
   },
   "file_extension": ".py",
   "mimetype": "text/x-python",
   "name": "python",
   "nbconvert_exporter": "python",
   "pygments_lexer": "ipython3",
   "version": "3.9.13"
  },
  "orig_nbformat": 4,
  "vscode": {
   "interpreter": {
    "hash": "b667cebad148e7b094a58ee81f940c685de1dd70a003a9ccdca4a5792431bee5"
   }
  }
 },
 "nbformat": 4,
 "nbformat_minor": 2
}
