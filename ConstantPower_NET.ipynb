{
 "cells": [
  {
   "cell_type": "code",
   "execution_count": null,
   "metadata": {},
   "outputs": [],
   "source": [
    "import pybamm\n",
    "import matplotlib.pyplot as plt\n",
    "import numpy as np\n",
    "import pandas as pd\n",
    "model = pybamm.lithium_ion.DFN(options={\"calculate discharge energy\":\"true\"})\n",
    "for event in model.events: \n",
    "    if event.name == \"Zero electrolyte concentration cut-off\":\n",
    "        model.events.remove(event)\n",
    "chem = pybamm.parameter_sets.Chen2020 #Cell Chemistry\n",
    "#chem "
   ]
  },
  {
   "cell_type": "code",
   "execution_count": null,
   "metadata": {},
   "outputs": [],
   "source": [
    "Parameter_values = pybamm.ParameterValues(chemistry=chem)\n",
    "# Set number of var_pts for the mesh\n",
    "var = pybamm.standard_spatial_vars\n",
    "var_pts = {var.x_n: 20, var.x_s: 20, var.x_p:400, var.r_n: 150, var.r_p: 20}\n",
    "C_rates = np.arange(0.2,7.2,0.2).tolist()\n",
    "sims = []\n",
    "Energy = []\n",
    "Power = []\n",
    "Factor = []\n",
    "crate = []\n",
    "param_name = \"Negative electrode thickness [m]\"\n",
    "param_list = np.arange(0.5,3,0.5)\n",
    "for factor in param_list: \n",
    "     sims = []\n",
    "     Parameter_values = pybamm.ParameterValues(chemistry=chem)\n",
    "     Parameter_values[param_name] *= factor\n",
    "     for C_rate in C_rates:\n",
    "     #Parameter_values[\"Current function [A]\"] = 5 * C_rate\n",
    "     #sim = pybamm.Simulation(model, parameter_values=Parameter_values)\n",
    "     #sim.solve([0, 4000 / C_rate])\n",
    "     #sims.append(sim)\n",
    "          if C_rate < 2.1:\n",
    "               t_eval = np.linspace(0, 4000 / C_rate, 500)\n",
    "               dt_max = None\n",
    "          elif C_rate < 4:\n",
    "               t_eval = np.linspace(0, 3500 / C_rate, 1000)\n",
    "               dt_max = 0.0001\n",
    "          elif C_rate < 8:\n",
    "               t_eval = np.linspace(0, 3000 / C_rate, 500)\n",
    "               dt_max = 0.0001\n",
    "          else:\n",
    "               t_eval = np.linspace(0, 60, 500)\n",
    "               dt_max = 0.0001\n",
    "          solver = pybamm.CasadiSolver(mode=\"safe\", dt_max=dt_max, max_step_decrease_count=15)\n",
    "          power = C_rate*15 # 3V x 5A (1C) = 15 W\n",
    "          experiment = pybamm.Experiment([f\"Discharge at {power} W until 2.5 V\"], period=\"40 seconds\")\n",
    "          sim = pybamm.Simulation(model, parameter_values=Parameter_values, var_pts=var_pts, solver=solver, C_rate=C_rate, experiment=experiment)\n",
    "          sim.solve()\n",
    "          sims.append(sim)\n",
    "          print(sim.solution.termination)\n",
    "          Energy.append(sim.solution[\"Discharge energy [W.h]\"].data[-1])\n",
    "          Power.append(sim.solution[\"Power [W]\"].data[-1])\n",
    "          Factor.append(factor)\n",
    "          crate.append(C_rate)\n",
    "     dict = {'Energy': Energy, 'Power': Power, 'Factor': Factor, 'C-rate': crate }\n",
    "     df = pd.DataFrame(dict)\n",
    "     df.to_csv(\"E:\\MSc SAE\\MSc Thesis\\Battery Energy and Power Output Prediction\\Results\\Constant Power\\Initial Electrolyte concentration\\Results_NET.csv\")"
   ]
  }
 ],
 "metadata": {
  "kernelspec": {
   "display_name": "Python 3.9.13 64-bit",
   "language": "python",
   "name": "python3"
  },
  "language_info": {
   "codemirror_mode": {
    "name": "ipython",
    "version": 3
   },
   "file_extension": ".py",
   "mimetype": "text/x-python",
   "name": "python",
   "nbconvert_exporter": "python",
   "pygments_lexer": "ipython3",
   "version": "3.9.13"
  },
  "orig_nbformat": 4,
  "vscode": {
   "interpreter": {
    "hash": "b667cebad148e7b094a58ee81f940c685de1dd70a003a9ccdca4a5792431bee5"
   }
  }
 },
 "nbformat": 4,
 "nbformat_minor": 2
}
