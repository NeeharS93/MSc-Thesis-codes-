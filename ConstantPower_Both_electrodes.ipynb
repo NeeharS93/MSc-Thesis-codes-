{
 "cells": [
  {
   "cell_type": "code",
   "execution_count": 3,
   "metadata": {},
   "outputs": [],
   "source": [
    "import pybamm\n",
    "import matplotlib.pyplot as plt\n",
    "import numpy as np\n",
    "import pandas as pd\n",
    "model = pybamm.lithium_ion.DFN(options={\"calculate discharge energy\":\"true\"})\n",
    "for event in model.events: \n",
    "    if event.name == \"Zero electrolyte concentration cut-off\":\n",
    "        model.events.remove(event)\n",
    "chem = pybamm.parameter_sets.Chen2020 #Cell Chemistry\n",
    "#chem "
   ]
  },
  {
   "cell_type": "code",
   "execution_count": 4,
   "metadata": {},
   "outputs": [
    {
     "name": "stdout",
     "output_type": "stream",
     "text": [
      "event: Voltage cut-off [V] [experiment]\n",
      "event: Voltage cut-off [V] [experiment]\n",
      "event: Voltage cut-off [V] [experiment]\n",
      "event: Voltage cut-off [V] [experiment]\n",
      "event: Voltage cut-off [V] [experiment]\n"
     ]
    },
    {
     "name": "stderr",
     "output_type": "stream",
     "text": [
      "At t = 0.00471528 and h = 4.09375e-023, the corrector convergence failed repeatedly or with |h| = hmin.\n",
      "At t = 0.00471528 and h = 4.13116e-023, the corrector convergence failed repeatedly or with |h| = hmin.\n"
     ]
    },
    {
     "name": "stdout",
     "output_type": "stream",
     "text": [
      "event: Voltage cut-off [V] [experiment]\n"
     ]
    },
    {
     "name": "stderr",
     "output_type": "stream",
     "text": [
      "At t = 0.00310318 and h = 7.44605e-024, the corrector convergence failed repeatedly or with |h| = hmin.\n",
      "At t = 0.00310318 and h = 7.4227e-024, the corrector convergence failed repeatedly or with |h| = hmin.\n",
      "At t = 0.000603195 and h = 3.49964e-024, the corrector convergence failed repeatedly or with |h| = hmin.\n",
      "At t = 0.000603195 and h = 3.58438e-024, the corrector convergence failed repeatedly or with |h| = hmin.\n",
      "At t = 0.000603195 and h = 2.05772e-024, the corrector convergence failed repeatedly or with |h| = hmin.\n",
      "At t = 0.000290669 and h = 6.6416e-025, the corrector convergence failed repeatedly or with |h| = hmin.\n",
      "At t = 0.000134428 and h = 2.28765e-026, the corrector convergence failed repeatedly or with |h| = hmin.\n"
     ]
    },
    {
     "name": "stdout",
     "output_type": "stream",
     "text": [
      "event: Voltage cut-off [V] [experiment]\n"
     ]
    },
    {
     "name": "stderr",
     "output_type": "stream",
     "text": [
      "At t = 0.00623173 and h = 1.16071e-023, the corrector convergence failed repeatedly or with |h| = hmin.\n",
      "At t = 0.00123173 and h = 4.70673e-027, the corrector convergence failed repeatedly or with |h| = hmin.\n",
      "At t = 0.00123173 and h = 4.70673e-027, the corrector convergence failed repeatedly or with |h| = hmin.\n",
      "At t = 0.00123173 and h = 4.67541e-027, the corrector convergence failed repeatedly or with |h| = hmin.\n",
      "At t = 0.000606703 and h = 2.99608e-025, the corrector convergence failed repeatedly or with |h| = hmin.\n",
      "At t = 0.000294198 and h = 2.57856e-023, the corrector convergence failed repeatedly or with |h| = hmin.\n",
      "At t = 0.000137937 and h = 9.10734e-025, the corrector convergence failed repeatedly or with |h| = hmin.\n",
      "At t = 5.98067e-005 and h = 4.44186e-024, the corrector convergence failed repeatedly or with |h| = hmin.\n",
      "At t = 2.0748e-005 and h = 4.98043e-024, the corrector convergence failed repeatedly or with |h| = hmin.\n"
     ]
    },
    {
     "name": "stdout",
     "output_type": "stream",
     "text": [
      "event: Voltage cut-off [V] [experiment]\n"
     ]
    },
    {
     "name": "stderr",
     "output_type": "stream",
     "text": [
      "At t = 0.00438914 and h = 1.66562e-023, the corrector convergence failed repeatedly or with |h| = hmin.\n",
      "At t = 0.00438916 and h = 5.0848e-025, the corrector convergence failed repeatedly or with |h| = hmin.\n",
      "At t = 0.00188915 and h = 6.90667e-024, the corrector convergence failed repeatedly or with |h| = hmin.\n",
      "At t = 0.000639133 and h = 1.86506e-023, the corrector convergence failed repeatedly or with |h| = hmin.\n",
      "At t = 1.41321e-005 and h = 1.68939e-023, the corrector convergence failed repeatedly or with |h| = hmin.\n",
      "At t = 1.41321e-005 and h = 1.68027e-023, the corrector convergence failed repeatedly or with |h| = hmin.\n",
      "At t = 1.4133e-005 and h = 2.9484e-025, the corrector convergence failed repeatedly or with |h| = hmin.\n",
      "At t = 1.41332e-005, , mxstep steps taken before reaching tout.\n",
      "At t = 1.41321e-005, , mxstep steps taken before reaching tout.\n",
      "At t = 1.41329e-005 and h = 2.84382e-024, the corrector convergence failed repeatedly or with |h| = hmin.\n",
      "At t = 4.36729e-006 and h = 1.69617e-024, the corrector convergence failed repeatedly or with |h| = hmin.\n",
      "At t = 4.36702e-006 and h = 3.37515e-024, the corrector convergence failed repeatedly or with |h| = hmin.\n",
      "At t = 1.9259e-006 and h = 4.19645e-024, the corrector convergence failed repeatedly or with |h| = hmin.\n"
     ]
    },
    {
     "name": "stdout",
     "output_type": "stream",
     "text": [
      "event: Voltage cut-off [V] [experiment]\n"
     ]
    },
    {
     "name": "stderr",
     "output_type": "stream",
     "text": [
      "At t = 0.00171759 and h = 3.69108e-023, the corrector convergence failed repeatedly or with |h| = hmin.\n",
      "At t = 0.00171759 and h = 3.69004e-023, the corrector convergence failed repeatedly or with |h| = hmin.\n",
      "At t = 0.0017176 and h = 9.31056e-025, the corrector convergence failed repeatedly or with |h| = hmin.\n",
      "At t = 0.000467599, , mxstep steps taken before reaching tout.\n",
      "At t = 0.000467599 and h = 1.20795e-023, the corrector convergence failed repeatedly or with |h| = hmin.\n",
      "At t = 0.000155096 and h = 3.98011e-026, the corrector convergence failed repeatedly or with |h| = hmin.\n",
      "At t = 0.000155096, , mxstep steps taken before reaching tout.\n",
      "At t = 7.69698e-005 and h = 1.03612e-024, the corrector convergence failed repeatedly or with |h| = hmin.\n",
      "At t = 3.79086e-005 and h = 2.57306e-025, the corrector convergence failed repeatedly or with |h| = hmin.\n",
      "At t = 1.83781e-005 and h = 1.01905e-027, the corrector convergence failed repeatedly or with |h| = hmin.\n",
      "At t = 8.61183e-006 and h = 1.12713e-024, the corrector convergence failed repeatedly or with |h| = hmin.\n",
      "At t = 3.72951e-006 and h = 8.78526e-025, the corrector convergence failed repeatedly or with |h| = hmin.\n",
      "At t = 1.28805e-006 and h = 1.44454e-023, the corrector convergence failed repeatedly or with |h| = hmin.\n"
     ]
    },
    {
     "name": "stdout",
     "output_type": "stream",
     "text": [
      "event: Voltage cut-off [V] [experiment]\n"
     ]
    },
    {
     "name": "stderr",
     "output_type": "stream",
     "text": [
      "At t = 0.00330903 and h = 4.96472e-024, the corrector convergence failed repeatedly or with |h| = hmin.\n",
      "At t = 0.00330903 and h = 5.02911e-024, the corrector convergence failed repeatedly or with |h| = hmin.\n",
      "At t = 0.00164434 and h = 1.7706e-025, the corrector convergence failed repeatedly or with |h| = hmin.\n",
      "At t = 0.000812 and h = 2.68474e-024, the corrector convergence failed repeatedly or with |h| = hmin.\n",
      "At t = 0.000395828 and h = 2.28421e-024, the corrector convergence failed repeatedly or with |h| = hmin.\n",
      "At t = 0.000187765 and h = 8.37234e-026, the corrector convergence failed repeatedly or with |h| = hmin.\n",
      "At t = 8.37231e-005, , mxstep steps taken before reaching tout.\n",
      "At t = 3.17019e-005 and h = 8.69038e-025, the corrector convergence failed repeatedly or with |h| = hmin.\n",
      "At t = 5.6915e-006 and h = 3.62022e-025, the corrector convergence failed repeatedly or with |h| = hmin.\n",
      "At t = 5.69148e-006 and h = 5.40721e-023, the corrector convergence failed repeatedly or with |h| = hmin.\n",
      "At t = 5.69119e-006 and h = 6.16555e-025, the corrector convergence failed repeatedly or with |h| = hmin.\n",
      "At t = 2.4402e-006 and h = 3.06912e-025, the corrector convergence failed repeatedly or with |h| = hmin.\n",
      "At t = 8.14516e-007 and h = 1.60222e-025, the corrector convergence failed repeatedly or with |h| = hmin.\n"
     ]
    },
    {
     "name": "stdout",
     "output_type": "stream",
     "text": [
      "event: Voltage cut-off [V] [experiment]\n"
     ]
    },
    {
     "name": "stderr",
     "output_type": "stream",
     "text": [
      "At t = 0.00165749 and h = 3.3591e-025, the corrector convergence failed repeatedly or with |h| = hmin.\n",
      "At t = 0.00165752 and h = 1.47736e-023, the corrector convergence failed repeatedly or with |h| = hmin.\n",
      "At t = 0.00165749 and h = 1.58735e-025, the corrector convergence failed repeatedly or with |h| = hmin.\n",
      "At t = 0.00082514 and h = 1.59451e-025, the corrector convergence failed repeatedly or with |h| = hmin.\n",
      "At t = 0.000408963, , mxstep steps taken before reaching tout.\n",
      "At t = 0.000200881 and h = 9.36643e-025, the corrector convergence failed repeatedly or with |h| = hmin.\n",
      "At t = 9.68403e-005, , mxstep steps taken before reaching tout.\n",
      "At t = 4.48187e-005 and h = 7.25964e-025, the corrector convergence failed repeatedly or with |h| = hmin.\n",
      "At t = 1.88082e-005 and h = 5.51321e-025, the corrector convergence failed repeatedly or with |h| = hmin.\n",
      "At t = 5.80296e-006 and h = 1.98978e-025, the corrector convergence failed repeatedly or with |h| = hmin.\n",
      "At t = 5.803e-006 and h = 8.82403e-025, the corrector convergence failed repeatedly or with |h| = hmin.\n",
      "At t = 2.55164e-006 and h = 3.6761e-024, the corrector convergence failed repeatedly or with |h| = hmin.\n",
      "At t = 9.25957e-007 and h = 2.82148e-023, the corrector convergence failed repeatedly or with |h| = hmin.\n"
     ]
    },
    {
     "name": "stdout",
     "output_type": "stream",
     "text": [
      "event: Voltage cut-off [V] [experiment]\n"
     ]
    },
    {
     "name": "stderr",
     "output_type": "stream",
     "text": [
      "At t = 0.00260663 and h = 7.20239e-026, the corrector convergence failed repeatedly or with |h| = hmin.\n",
      "At t = 0.0026068 and h = 4.40868e-024, the corrector convergence failed repeatedly or with |h| = hmin.\n",
      "At t = 0.000942002 and h = 5.02442e-023, the corrector convergence failed repeatedly or with |h| = hmin.\n",
      "At t = 0.000109657 and h = 4.02626e-025, the corrector convergence failed repeatedly or with |h| = hmin.\n",
      "At t = 0.000109657, , mxstep steps taken before reaching tout.\n",
      "At t = 0.000109657 and h = 1.7021e-025, the corrector convergence failed repeatedly or with |h| = hmin.\n",
      "At t = 5.61617e-006, , mxstep steps taken before reaching tout.\n",
      "At t = 5.61617e-006 and h = 1.67327e-025, the corrector convergence failed repeatedly or with |h| = hmin.\n",
      "At t = 5.61611e-006 and h = 3.01668e-024, the corrector convergence failed repeatedly or with |h| = hmin.\n",
      "At t = 5.61618e-006 and h = 3.11573e-025, the corrector convergence failed repeatedly or with |h| = hmin.\n",
      "At t = 5.61577e-006, , mxstep steps taken before reaching tout.\n",
      "At t = 2.36481e-006 and h = 5.31685e-025, the corrector convergence failed repeatedly or with |h| = hmin.\n",
      "At t = 7.39147e-007 and h = 1.1195e-024, the corrector convergence failed repeatedly or with |h| = hmin.\n",
      "At t = 7.39155e-007 and h = 1.65051e-024, the corrector convergence failed repeatedly or with |h| = hmin.\n",
      "At t = 3.32736e-007 and h = 7.11117e-024, the corrector convergence failed repeatedly or with |h| = hmin.\n",
      "At t = 0 and h = 1.47171e-017, the error test failed repeatedly or with |h| = hmin.\n",
      "2022-09-05 17:16:25.113 - [ERROR] callbacks.on_experiment_error(226): Simulation error: .../casadi/interfaces/sundials/idas_interface.cpp:591: IDASolve returned \"IDA_ERR_FAIL\". Consult IDAS documentation.\n"
     ]
    },
    {
     "name": "stdout",
     "output_type": "stream",
     "text": [
      "an error occured\n"
     ]
    },
    {
     "ename": "TypeError",
     "evalue": "'NoneType' object is not subscriptable",
     "output_type": "error",
     "traceback": [
      "\u001b[1;31m---------------------------------------------------------------------------\u001b[0m",
      "\u001b[1;31mTypeError\u001b[0m                                 Traceback (most recent call last)",
      "\u001b[1;32me:\\MSc SAE\\MSc Thesis\\Battery Energy and Power Output Prediction\\Codes\\Constant Power_Discharge\\ConstantPower_Both_electrodes.ipynb Cell 2\u001b[0m in \u001b[0;36m<cell line: 13>\u001b[1;34m()\u001b[0m\n\u001b[0;32m     <a href='vscode-notebook-cell:/e%3A/MSc%20SAE/MSc%20Thesis/Battery%20Energy%20and%20Power%20Output%20Prediction/Codes/Constant%20Power_Discharge/ConstantPower_Both_electrodes.ipynb#W1sZmlsZQ%3D%3D?line=42'>43</a>\u001b[0m \u001b[39mexcept\u001b[39;00m:\n\u001b[0;32m     <a href='vscode-notebook-cell:/e%3A/MSc%20SAE/MSc%20Thesis/Battery%20Energy%20and%20Power%20Output%20Prediction/Codes/Constant%20Power_Discharge/ConstantPower_Both_electrodes.ipynb#W1sZmlsZQ%3D%3D?line=43'>44</a>\u001b[0m      \u001b[39mprint\u001b[39m(\u001b[39m\"\u001b[39m\u001b[39man error occured\u001b[39m\u001b[39m\"\u001b[39m)\n\u001b[1;32m---> <a href='vscode-notebook-cell:/e%3A/MSc%20SAE/MSc%20Thesis/Battery%20Energy%20and%20Power%20Output%20Prediction/Codes/Constant%20Power_Discharge/ConstantPower_Both_electrodes.ipynb#W1sZmlsZQ%3D%3D?line=44'>45</a>\u001b[0m Energy\u001b[39m.\u001b[39mappend(sim\u001b[39m.\u001b[39;49msolution[\u001b[39m\"\u001b[39;49m\u001b[39mDischarge energy [W.h]\u001b[39;49m\u001b[39m\"\u001b[39;49m]\u001b[39m.\u001b[39mdata[\u001b[39m-\u001b[39m\u001b[39m1\u001b[39m])\n\u001b[0;32m     <a href='vscode-notebook-cell:/e%3A/MSc%20SAE/MSc%20Thesis/Battery%20Energy%20and%20Power%20Output%20Prediction/Codes/Constant%20Power_Discharge/ConstantPower_Both_electrodes.ipynb#W1sZmlsZQ%3D%3D?line=45'>46</a>\u001b[0m Power\u001b[39m.\u001b[39mappend(sim\u001b[39m.\u001b[39msolution[\u001b[39m\"\u001b[39m\u001b[39mPower [W]\u001b[39m\u001b[39m\"\u001b[39m]\u001b[39m.\u001b[39mdata[\u001b[39m-\u001b[39m\u001b[39m1\u001b[39m])\n\u001b[0;32m     <a href='vscode-notebook-cell:/e%3A/MSc%20SAE/MSc%20Thesis/Battery%20Energy%20and%20Power%20Output%20Prediction/Codes/Constant%20Power_Discharge/ConstantPower_Both_electrodes.ipynb#W1sZmlsZQ%3D%3D?line=46'>47</a>\u001b[0m Factor\u001b[39m.\u001b[39mappend(factor)\n",
      "\u001b[1;31mTypeError\u001b[0m: 'NoneType' object is not subscriptable"
     ]
    }
   ],
   "source": [
    "Parameter_values = pybamm.ParameterValues(chemistry=chem)\n",
    "# Set number of var_pts for the mesh\n",
    "var = pybamm.standard_spatial_vars\n",
    "var_pts = {var.x_n: 20, var.x_s: 20, var.x_p:400, var.r_n: 150, var.r_p: 20}\n",
    "C_rates = np.arange(0.2,7.2,0.2).tolist()\n",
    "sims = []\n",
    "Energy = []\n",
    "Power = []\n",
    "Factor = []\n",
    "crate = []\n",
    "param_name_list = [\"Positive electrode thickness [m]\" , \"Negative electrode thickness [m]\"]\n",
    "param_list = np.arange(0.5,3,0.5)\n",
    "for factor in param_list: \n",
    "     sims = []\n",
    "     Parameter_values = pybamm.ParameterValues(chemistry=chem)\n",
    "     for Parameters in param_name_list:\n",
    "          Parameter_values[Parameters] *= factor\n",
    "     for C_rate in C_rates:\n",
    "     #Parameter_values[\"Current function [A]\"] = 5 * C_rate\n",
    "     #sim = pybamm.Simulation(model, parameter_values=Parameter_values)\n",
    "     #sim.solve([0, 4000 / C_rate])\n",
    "     #sims.append(sim)\n",
    "          if C_rate < 2.1:\n",
    "               t_eval = np.linspace(0, 4000 / C_rate, 500)\n",
    "               dt_max = None\n",
    "          elif C_rate < 4:\n",
    "               t_eval = np.linspace(0, 3500 / C_rate, 1000)\n",
    "               dt_max = 0.0001\n",
    "          elif C_rate < 8:\n",
    "               t_eval = np.linspace(0, 3000 / C_rate, 500)\n",
    "               dt_max = 0.0001\n",
    "          else:\n",
    "               t_eval = np.linspace(0, 60, 500)\n",
    "               dt_max = 0.0001\n",
    "          try:\n",
    "               solver = pybamm.CasadiSolver(mode=\"safe\", dt_max=dt_max, max_step_decrease_count=15)\n",
    "               power = C_rate*15 # 3V x 5A (1C) = 15 W\n",
    "               experiment = pybamm.Experiment([f\"Discharge at {power} W until 2.5 V\"], period=\"40 seconds\")\n",
    "               sim = pybamm.Simulation(model, parameter_values=Parameter_values, var_pts=var_pts, solver=solver, C_rate=C_rate, experiment=experiment)\n",
    "               sim.solve()\n",
    "               sims.append(sim)\n",
    "               print(sim.solution.termination)\n",
    "          except:\n",
    "               print(\"an error occured\")\n",
    "          Energy.append(sim.solution[\"Discharge energy [W.h]\"].data[-1])\n",
    "          Power.append(sim.solution[\"Power [W]\"].data[-1])\n",
    "          Factor.append(factor)\n",
    "          crate.append(C_rate)\n",
    "     dict = {'Energy': Energy, 'Power': Power, 'Factor': Factor, 'C-rate': crate }\n",
    "     df = pd.DataFrame(dict)\n",
    "     df.to_csv(\"E:\\MSc SAE\\MSc Thesis\\Battery Energy and Power Output Prediction\\Results\\Constant Power\\Electrode Thickness\\BOTHresults.csv\")"
   ]
  }
 ],
 "metadata": {
  "kernelspec": {
   "display_name": "Python 3.9.13 64-bit",
   "language": "python",
   "name": "python3"
  },
  "language_info": {
   "codemirror_mode": {
    "name": "ipython",
    "version": 3
   },
   "file_extension": ".py",
   "mimetype": "text/x-python",
   "name": "python",
   "nbconvert_exporter": "python",
   "pygments_lexer": "ipython3",
   "version": "3.9.13"
  },
  "orig_nbformat": 4,
  "vscode": {
   "interpreter": {
    "hash": "b667cebad148e7b094a58ee81f940c685de1dd70a003a9ccdca4a5792431bee5"
   }
  }
 },
 "nbformat": 4,
 "nbformat_minor": 2
}
