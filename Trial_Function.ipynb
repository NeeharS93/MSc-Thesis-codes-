{
 "cells": [
  {
   "cell_type": "code",
   "execution_count": 1,
   "metadata": {},
   "outputs": [],
   "source": [
    "import pybamm\n",
    "import matplotlib.pyplot as plt\n",
    "import numpy as np\n",
    "model = pybamm.lithium_ion.DFN()\n",
    "for event in model.events: \n",
    "    if event.name == \"Zero electrolyte concentration cut-off\":\n",
    "        model.events.remove(event)\n",
    "chem = pybamm.parameter_sets.Chen2020 #Cell Chemistry\n",
    "#chem \n",
    "Parameter_values = pybamm.ParameterValues(chemistry=chem)\n",
    "C_rates = np.arange(0.2,10.2,0.2).tolist()"
   ]
  },
  {
   "cell_type": "code",
   "execution_count": 10,
   "metadata": {},
   "outputs": [],
   "source": [
    "from Auxillary_functions import dt_max\n",
    "sim = dt_max(model=model, Parameter_values=Parameter_values, C_rates=C_rates)\n",
    "sims = sim\n"
   ]
  },
  {
   "cell_type": "code",
   "execution_count": 11,
   "metadata": {},
   "outputs": [
    {
     "data": {
      "image/png": "[encoded data removed]",
      "text/plain": [
       "<Figure size 432x288 with 1 Axes>"
      ]
     },
     "metadata": {
      "needs_background": "light"
     },
     "output_type": "display_data"
    }
   ],
   "source": [
    "#fig, ax = plt.subplots()\n",
    "plt.xlabel(\"Current [A]\")\n",
    "plt.ylabel(\"Discharge Capacity [A.h]\")\n",
    "capacity = [sol.solution[\"Discharge capacity [A.h]\"].data[-1] for sol in sims ]\n",
    "current = [sol.solution[\"Current [A]\"].data[-1] for sol in sims]\n",
    "\n",
    "#plt.scatter(current, capacity)\n",
    "plt.plot(current,capacity)\n",
    "plt.show()"
   ]
  }
 ],
 "metadata": {
  "kernelspec": {
   "display_name": "Python 3.9.13 64-bit",
   "language": "python",
   "name": "python3"
  },
  "language_info": {
   "codemirror_mode": {
    "name": "ipython",
    "version": 3
   },
   "file_extension": ".py",
   "mimetype": "text/x-python",
   "name": "python",
   "nbconvert_exporter": "python",
   "pygments_lexer": "ipython3",
   "version": "3.9.13"
  },
  "orig_nbformat": 4,
  "vscode": {
   "interpreter": {
    "hash": "b667cebad148e7b094a58ee81f940c685de1dd70a003a9ccdca4a5792431bee5"
   }
  }
 },
 "nbformat": 4,
 "nbformat_minor": 2
}
