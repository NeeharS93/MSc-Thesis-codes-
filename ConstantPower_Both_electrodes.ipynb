{
 "cells": [
  {
   "cell_type": "code",
   "execution_count": 1,
   "metadata": {},
   "outputs": [],
   "source": [
    "import pybamm\n",
    "import matplotlib.pyplot as plt\n",
    "import numpy as np\n",
    "model = pybamm.lithium_ion.DFN(options={\"calculate discharge energy\":\"true\"})\n",
    "for event in model.events: \n",
    "    if event.name == \"Zero electrolyte concentration cut-off\":\n",
    "        model.events.remove(event)\n",
    "chem = pybamm.parameter_sets.Chen2020 #Cell Chemistry\n",
    "#chem "
   ]
  },
  {
   "cell_type": "code",
   "execution_count": 4,
   "metadata": {},
   "outputs": [
    {
     "ename": "AttributeError",
     "evalue": "'NoneType' object has no attribute 'check_ys_are_not_too_large'",
     "output_type": "error",
     "traceback": [
      "\u001b[1;31m---------------------------------------------------------------------------\u001b[0m",
      "\u001b[1;31mAttributeError\u001b[0m                            Traceback (most recent call last)",
      "\u001b[1;32me:\\MSc SAE\\MSc Thesis\\Battery Energy and Power Output Prediction\\Codes\\Constant Power_Discharge\\ConstantPower_Both_electrodes.ipynb Cell 2\u001b[0m in \u001b[0;36m<cell line: 9>\u001b[1;34m()\u001b[0m\n\u001b[0;32m     <a href='vscode-notebook-cell:/e%3A/MSc%20SAE/MSc%20Thesis/Battery%20Energy%20and%20Power%20Output%20Prediction/Codes/Constant%20Power_Discharge/ConstantPower_Both_electrodes.ipynb#W1sZmlsZQ%3D%3D?line=32'>33</a>\u001b[0m experiment \u001b[39m=\u001b[39m pybamm\u001b[39m.\u001b[39mExperiment([\u001b[39mf\u001b[39m\u001b[39m\"\u001b[39m\u001b[39mDischarge at \u001b[39m\u001b[39m{\u001b[39;00mpower\u001b[39m}\u001b[39;00m\u001b[39m W until 2.5 V\u001b[39m\u001b[39m\"\u001b[39m], period\u001b[39m=\u001b[39m\u001b[39m\"\u001b[39m\u001b[39m40 seconds\u001b[39m\u001b[39m\"\u001b[39m)\n\u001b[0;32m     <a href='vscode-notebook-cell:/e%3A/MSc%20SAE/MSc%20Thesis/Battery%20Energy%20and%20Power%20Output%20Prediction/Codes/Constant%20Power_Discharge/ConstantPower_Both_electrodes.ipynb#W1sZmlsZQ%3D%3D?line=33'>34</a>\u001b[0m sim \u001b[39m=\u001b[39m pybamm\u001b[39m.\u001b[39mSimulation(model, parameter_values\u001b[39m=\u001b[39mParameter_values, var_pts\u001b[39m=\u001b[39mvar_pts, solver\u001b[39m=\u001b[39msolver, C_rate\u001b[39m=\u001b[39mC_rate, experiment\u001b[39m=\u001b[39mexperiment)\n\u001b[1;32m---> <a href='vscode-notebook-cell:/e%3A/MSc%20SAE/MSc%20Thesis/Battery%20Energy%20and%20Power%20Output%20Prediction/Codes/Constant%20Power_Discharge/ConstantPower_Both_electrodes.ipynb#W1sZmlsZQ%3D%3D?line=34'>35</a>\u001b[0m sim\u001b[39m.\u001b[39;49msolve()\n\u001b[0;32m     <a href='vscode-notebook-cell:/e%3A/MSc%20SAE/MSc%20Thesis/Battery%20Energy%20and%20Power%20Output%20Prediction/Codes/Constant%20Power_Discharge/ConstantPower_Both_electrodes.ipynb#W1sZmlsZQ%3D%3D?line=35'>36</a>\u001b[0m sims\u001b[39m.\u001b[39mappend(sim)\n\u001b[0;32m     <a href='vscode-notebook-cell:/e%3A/MSc%20SAE/MSc%20Thesis/Battery%20Energy%20and%20Power%20Output%20Prediction/Codes/Constant%20Power_Discharge/ConstantPower_Both_electrodes.ipynb#W1sZmlsZQ%3D%3D?line=36'>37</a>\u001b[0m \u001b[39mprint\u001b[39m(sim\u001b[39m.\u001b[39msolution\u001b[39m.\u001b[39mtermination)\n",
      "File \u001b[1;32mc:\\Users\\asus\\AppData\\Local\\Programs\\Python\\Python39\\lib\\site-packages\\pybamm\\simulation.py:829\u001b[0m, in \u001b[0;36mSimulation.solve\u001b[1;34m(self, t_eval, solver, check_model, save_at_cycles, calc_esoh, starting_solution, initial_soc, callbacks, **kwargs)\u001b[0m\n\u001b[0;32m    827\u001b[0m npts \u001b[39m=\u001b[39m \u001b[39mmax\u001b[39m(\u001b[39mint\u001b[39m(\u001b[39mround\u001b[39m(dt \u001b[39m/\u001b[39m exp_inputs[\u001b[39m\"\u001b[39m\u001b[39mperiod\u001b[39m\u001b[39m\"\u001b[39m])) \u001b[39m+\u001b[39m \u001b[39m1\u001b[39m, \u001b[39m2\u001b[39m)\n\u001b[0;32m    828\u001b[0m \u001b[39mtry\u001b[39;00m:\n\u001b[1;32m--> 829\u001b[0m     step_solution \u001b[39m=\u001b[39m solver\u001b[39m.\u001b[39mstep(\n\u001b[0;32m    830\u001b[0m         current_solution,\n\u001b[0;32m    831\u001b[0m         model,\n\u001b[0;32m    832\u001b[0m         dt,\n\u001b[0;32m    833\u001b[0m         npts\u001b[39m=\u001b[39mnpts,\n\u001b[0;32m    834\u001b[0m         save\u001b[39m=\u001b[39m\u001b[39mFalse\u001b[39;00m,\n\u001b[0;32m    835\u001b[0m         \u001b[39m*\u001b[39m\u001b[39m*\u001b[39mkwargs,\n\u001b[0;32m    836\u001b[0m     )\n\u001b[0;32m    837\u001b[0m \u001b[39mexcept\u001b[39;00m pybamm\u001b[39m.\u001b[39mSolverError \u001b[39mas\u001b[39;00m e:\n\u001b[0;32m    838\u001b[0m     logs[\u001b[39m\"\u001b[39m\u001b[39merror\u001b[39m\u001b[39m\"\u001b[39m] \u001b[39m=\u001b[39m e\n",
      "File \u001b[1;32mc:\\Users\\asus\\AppData\\Local\\Programs\\Python\\Python39\\lib\\site-packages\\pybamm\\solvers\\base_solver.py:1322\u001b[0m, in \u001b[0;36mBaseSolver.step\u001b[1;34m(self, old_solution, model, dt, npts, external_variables, inputs, save)\u001b[0m\n\u001b[0;32m   1315\u001b[0m pybamm\u001b[39m.\u001b[39mlogger\u001b[39m.\u001b[39mverbose(\n\u001b[0;32m   1316\u001b[0m     \u001b[39m\"\u001b[39m\u001b[39mStepping for \u001b[39m\u001b[39m{:.0f}\u001b[39;00m\u001b[39m < t < \u001b[39m\u001b[39m{:.0f}\u001b[39;00m\u001b[39m\"\u001b[39m\u001b[39m.\u001b[39mformat(\n\u001b[0;32m   1317\u001b[0m         t \u001b[39m*\u001b[39m model\u001b[39m.\u001b[39mtimescale_eval,\n\u001b[0;32m   1318\u001b[0m         (t \u001b[39m+\u001b[39m dt_dimensionless) \u001b[39m*\u001b[39m model\u001b[39m.\u001b[39mtimescale_eval,\n\u001b[0;32m   1319\u001b[0m     )\n\u001b[0;32m   1320\u001b[0m )\n\u001b[0;32m   1321\u001b[0m timer\u001b[39m.\u001b[39mreset()\n\u001b[1;32m-> 1322\u001b[0m solution \u001b[39m=\u001b[39m \u001b[39mself\u001b[39;49m\u001b[39m.\u001b[39;49m_integrate(model, t_eval, ext_and_inputs)\n\u001b[0;32m   1323\u001b[0m solution\u001b[39m.\u001b[39msolve_time \u001b[39m=\u001b[39m timer\u001b[39m.\u001b[39mtime()\n\u001b[0;32m   1325\u001b[0m \u001b[39m# Check if extrapolation occurred\u001b[39;00m\n",
      "File \u001b[1;32mc:\\Users\\asus\\AppData\\Local\\Programs\\Python\\Python39\\lib\\site-packages\\pybamm\\solvers\\casadi_solver.py:293\u001b[0m, in \u001b[0;36mCasadiSolver._integrate\u001b[1;34m(self, model, t_eval, inputs_dict)\u001b[0m\n\u001b[0;32m    290\u001b[0m \u001b[39mif\u001b[39;00m \u001b[39mbool\u001b[39m(model\u001b[39m.\u001b[39mcalculate_sensitivities):\n\u001b[0;32m    291\u001b[0m     solution\u001b[39m.\u001b[39msensitivities \u001b[39m=\u001b[39m \u001b[39mTrue\u001b[39;00m\n\u001b[1;32m--> 293\u001b[0m solution\u001b[39m.\u001b[39;49mcheck_ys_are_not_too_large()\n\u001b[0;32m    294\u001b[0m \u001b[39mreturn\u001b[39;00m solution\n",
      "\u001b[1;31mAttributeError\u001b[0m: 'NoneType' object has no attribute 'check_ys_are_not_too_large'"
     ]
    }
   ],
   "source": [
    "Parameter_values = pybamm.ParameterValues(chemistry=chem)\n",
    "# Set number of var_pts for the mesh\n",
    "var = pybamm.standard_spatial_vars\n",
    "var_pts = {var.x_n: 20, var.x_s: 20, var.x_p:400, var.r_n: 150, var.r_p: 20}\n",
    "C_rates = np.arange(0.2,7.2,0.2).tolist()\n",
    "sims = []\n",
    "param_name_list = [\"Positive electrode thickness [m]\" , \"Negative electrode thickness [m]\"]\n",
    "param_list = np.arange(-0.5,1.5,0.5)\n",
    "for factor in param_list: \n",
    "     sims = []\n",
    "     Parameter_values = pybamm.ParameterValues(chemistry=chem)\n",
    "     for Parameters in param_name_list:\n",
    "          Parameter_values[Parameters] += factor\n",
    "     for C_rate in C_rates:\n",
    "     #Parameter_values[\"Current function [A]\"] = 5 * C_rate\n",
    "     #sim = pybamm.Simulation(model, parameter_values=Parameter_values)\n",
    "     #sim.solve([0, 4000 / C_rate])\n",
    "     #sims.append(sim)\n",
    "          if C_rate < 2.1:\n",
    "               t_eval = np.linspace(0, 4000 / C_rate, 500)\n",
    "               dt_max = None\n",
    "          elif C_rate < 4:\n",
    "               t_eval = np.linspace(0, 3500 / C_rate, 1000)\n",
    "               dt_max = 0.0001\n",
    "          elif C_rate < 8:\n",
    "               t_eval = np.linspace(0, 3000 / C_rate, 500)\n",
    "               dt_max = 0.0001\n",
    "          else:\n",
    "               t_eval = np.linspace(0, 60, 500)\n",
    "               dt_max = 0.0001\n",
    "          solver = pybamm.CasadiSolver(mode=\"safe\", dt_max=dt_max, max_step_decrease_count=15)\n",
    "          power = C_rate*15 # 3V x 5A (1C) = 15 W\n",
    "          experiment = pybamm.Experiment([f\"Discharge at {power} W until 2.5 V\"], period=\"40 seconds\")\n",
    "          sim = pybamm.Simulation(model, parameter_values=Parameter_values, var_pts=var_pts, solver=solver, C_rate=C_rate, experiment=experiment)\n",
    "          sim.solve()\n",
    "          sims.append(sim)\n",
    "          print(sim.solution.termination)\n",
    "\n",
    "     Energy = [sol.solution[\"Discharge energy [W.h]\"].data[-1] for sol in sims]\n",
    "     Power = [sol.solution[\"Power [W]\"].data[-1] for sol in sims]\n",
    "     #plt.scatter(Power, Energy)\n",
    "     plt.plot(Power, Energy,label = factor)\n",
    "plt.xlabel(\"Power [W]\")\n",
    "plt.ylabel(\"Discharge Energy [W.h]\")\n",
    "plt.title(\"Positive Electrode thickness [m]\")\n",
    "plt.legend()\n",
    "plt.show()"
   ]
  }
 ],
 "metadata": {
  "kernelspec": {
   "display_name": "Python 3.9.13 64-bit",
   "language": "python",
   "name": "python3"
  },
  "language_info": {
   "codemirror_mode": {
    "name": "ipython",
    "version": 3
   },
   "file_extension": ".py",
   "mimetype": "text/x-python",
   "name": "python",
   "nbconvert_exporter": "python",
   "pygments_lexer": "ipython3",
   "version": "3.9.13"
  },
  "orig_nbformat": 4,
  "vscode": {
   "interpreter": {
    "hash": "b667cebad148e7b094a58ee81f940c685de1dd70a003a9ccdca4a5792431bee5"
   }
  }
 },
 "nbformat": 4,
 "nbformat_minor": 2
}
