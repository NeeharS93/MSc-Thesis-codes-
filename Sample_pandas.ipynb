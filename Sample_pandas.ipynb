{
 "cells": [
  {
   "cell_type": "code",
   "execution_count": 7,
   "metadata": {},
   "outputs": [],
   "source": [
    "import pybamm\n",
    "import matplotlib.pyplot as plt\n",
    "import numpy as np\n",
    "import pandas as pd\n",
    "model = pybamm.lithium_ion.DFN(options={\"calculate discharge energy\":\"true\"})\n",
    "for event in model.events: \n",
    "    if event.name == \"Zero electrolyte concentration cut-off\":\n",
    "        model.events.remove(event)\n",
    "chem = pybamm.parameter_sets.Chen2020 #Cell Chemistry\n",
    "#chem "
   ]
  },
  {
   "cell_type": "code",
   "execution_count": null,
   "metadata": {},
   "outputs": [],
   "source": [
    "Parameter_values = pybamm.ParameterValues(chemistry=chem)\n",
    "df = pd.DataFrame()\n",
    "# Set number of var_pts for the mesh\n",
    "var = pybamm.standard_spatial_vars\n",
    "var_pts = {var.x_n: 20, var.x_s: 20, var.x_p:400, var.r_n: 150, var.r_p: 20}\n",
    "C_rates = (1,2)\n",
    "sims = []\n",
    "Energy = []\n",
    "Power = []\n",
    "Factor = []\n",
    "param_name = \"Initial concentration in electrolyte [mol.m-3]\"\n",
    "param_list = (0.5,1)\n",
    "for factor in param_list: \n",
    "     sims = []\n",
    "     Parameter_values = pybamm.ParameterValues(chemistry=chem)\n",
    "     Parameter_values[param_name] *= factor\n",
    "     for C_rate in C_rates:\n",
    "     #Parameter_values[\"Current function [A]\"] = 5 * C_rate\n",
    "     #sim = pybamm.Simulation(model, parameter_values=Parameter_values)\n",
    "     #sim.solve([0, 4000 / C_rate])\n",
    "     #sims.append(sim)\n",
    "          if C_rate < 2.1:\n",
    "               t_eval = np.linspace(0, 4000 / C_rate, 500)\n",
    "               dt_max = None\n",
    "          elif C_rate < 4:\n",
    "               t_eval = np.linspace(0, 3500 / C_rate, 1000)\n",
    "               dt_max = 0.0001\n",
    "          elif C_rate < 8:\n",
    "               t_eval = np.linspace(0, 3000 / C_rate, 500)\n",
    "               dt_max = 0.0001\n",
    "          else:\n",
    "               t_eval = np.linspace(0, 60, 500)\n",
    "               dt_max = 0.0001\n",
    "          solver = pybamm.CasadiSolver(mode=\"safe\", dt_max=dt_max, max_step_decrease_count=15)\n",
    "          power = C_rate*15 \n",
    "          experiment = pybamm.Experiment([f\"Discharge at {power} W until 2.5 V\"], period=\"40 seconds\")\n",
    "          sim = pybamm.Simulation(model, parameter_values=Parameter_values, var_pts=var_pts, solver=solver, C_rate=C_rate, experiment=experiment)\n",
    "          sim.solve()\n",
    "          sims.append(sim)\n",
    "          print(sim.solution.termination)\n",
    "          Energy.append(sol.solution[\"Discharge energy [W.h]\"].data[-1] for sol in sims)\n",
    "          Power.append(sol.solution[\"Power [W]\"].data[-1] for sol in sims)\n",
    "          Factor.append(factor)\n",
    "     dict = {'Energy': Energy, 'Power': Power, 'Factor': Factor }\n",
    "     df = pd.DataFrame(dict)\n",
    "    "
   ]
  },
  {
   "cell_type": "code",
   "execution_count": 9,
   "metadata": {},
   "outputs": [
    {
     "data": {
      "text/html": [
       "<div>\n",
       "<style scoped>\n",
       "    .dataframe tbody tr th:only-of-type {\n",
       "        vertical-align: middle;\n",
       "    }\n",
       "\n",
       "    .dataframe tbody tr th {\n",
       "        vertical-align: top;\n",
       "    }\n",
       "\n",
       "    .dataframe thead th {\n",
       "        text-align: right;\n",
       "    }\n",
       "</style>\n",
       "<table border=\"1\" class=\"dataframe\">\n",
       "  <thead>\n",
       "    <tr style=\"text-align: right;\">\n",
       "      <th></th>\n",
       "      <th>Energy</th>\n",
       "      <th>Power</th>\n",
       "      <th>Factor</th>\n",
       "    </tr>\n",
       "  </thead>\n",
       "  <tbody>\n",
       "    <tr>\n",
       "      <th>0</th>\n",
       "      <td>&lt;generator object &lt;genexpr&gt; at 0x000001D83E970...</td>\n",
       "      <td>&lt;generator object &lt;genexpr&gt; at 0x000001D83E970...</td>\n",
       "      <td>0.5</td>\n",
       "    </tr>\n",
       "    <tr>\n",
       "      <th>1</th>\n",
       "      <td>&lt;generator object &lt;genexpr&gt; at 0x000001D83EDB4...</td>\n",
       "      <td>&lt;generator object &lt;genexpr&gt; at 0x000001D83EDB4...</td>\n",
       "      <td>0.5</td>\n",
       "    </tr>\n",
       "    <tr>\n",
       "      <th>2</th>\n",
       "      <td>&lt;generator object &lt;genexpr&gt; at 0x000001D83EB5C...</td>\n",
       "      <td>&lt;generator object &lt;genexpr&gt; at 0x000001D83EB5C...</td>\n",
       "      <td>1.0</td>\n",
       "    </tr>\n",
       "    <tr>\n",
       "      <th>3</th>\n",
       "      <td>&lt;generator object &lt;genexpr&gt; at 0x000001D84358C...</td>\n",
       "      <td>&lt;generator object &lt;genexpr&gt; at 0x000001D84358C...</td>\n",
       "      <td>1.0</td>\n",
       "    </tr>\n",
       "  </tbody>\n",
       "</table>\n",
       "</div>"
      ],
      "text/plain": [
       "                                              Energy  \\\n",
       "0  <generator object <genexpr> at 0x000001D83E970...   \n",
       "1  <generator object <genexpr> at 0x000001D83EDB4...   \n",
       "2  <generator object <genexpr> at 0x000001D83EB5C...   \n",
       "3  <generator object <genexpr> at 0x000001D84358C...   \n",
       "\n",
       "                                               Power  Factor  \n",
       "0  <generator object <genexpr> at 0x000001D83E970...     0.5  \n",
       "1  <generator object <genexpr> at 0x000001D83EDB4...     0.5  \n",
       "2  <generator object <genexpr> at 0x000001D83EB5C...     1.0  \n",
       "3  <generator object <genexpr> at 0x000001D84358C...     1.0  "
      ]
     },
     "execution_count": 9,
     "metadata": {},
     "output_type": "execute_result"
    }
   ],
   "source": [
    "df"
   ]
  },
  {
   "cell_type": "code",
   "execution_count": 10,
   "metadata": {},
   "outputs": [
    {
     "data": {
      "text/plain": [
       "[<generator object <genexpr> at 0x000001D83E970F20>,\n",
       " <generator object <genexpr> at 0x000001D83EDB4900>,\n",
       " <generator object <genexpr> at 0x000001D83EB5CB30>,\n",
       " <generator object <genexpr> at 0x000001D84358C4A0>]"
      ]
     },
     "execution_count": 10,
     "metadata": {},
     "output_type": "execute_result"
    }
   ],
   "source": [
    "Energy"
   ]
  },
  {
   "cell_type": "code",
   "execution_count": 11,
   "metadata": {},
   "outputs": [
    {
     "data": {
      "text/plain": [
       "[<generator object <genexpr> at 0x000001D83E970F90>,\n",
       " <generator object <genexpr> at 0x000001D83EDB4970>,\n",
       " <generator object <genexpr> at 0x000001D83EB5CAC0>,\n",
       " <generator object <genexpr> at 0x000001D84358C5F0>]"
      ]
     },
     "execution_count": 11,
     "metadata": {},
     "output_type": "execute_result"
    }
   ],
   "source": [
    "Power"
   ]
  },
  {
   "cell_type": "code",
   "execution_count": 12,
   "metadata": {},
   "outputs": [
    {
     "data": {
      "text/plain": [
       "[0.5, 0.5, 1, 1]"
      ]
     },
     "execution_count": 12,
     "metadata": {},
     "output_type": "execute_result"
    }
   ],
   "source": [
    "Factor"
   ]
  }
 ],
 "metadata": {
  "kernelspec": {
   "display_name": "Python 3.9.13 64-bit",
   "language": "python",
   "name": "python3"
  },
  "language_info": {
   "codemirror_mode": {
    "name": "ipython",
    "version": 3
   },
   "file_extension": ".py",
   "mimetype": "text/x-python",
   "name": "python",
   "nbconvert_exporter": "python",
   "pygments_lexer": "ipython3",
   "version": "3.9.13"
  },
  "orig_nbformat": 4,
  "vscode": {
   "interpreter": {
    "hash": "b667cebad148e7b094a58ee81f940c685de1dd70a003a9ccdca4a5792431bee5"
   }
  }
 },
 "nbformat": 4,
 "nbformat_minor": 2
}
